{
  "nbformat": 4,
  "nbformat_minor": 0,
  "metadata": {
    "colab": {
      "provenance": []
    },
    "kernelspec": {
      "name": "python3",
      "display_name": "Python 3"
    },
    "language_info": {
      "name": "python"
    }
  },
  "cells": [
    {
      "cell_type": "code",
      "execution_count": null,
      "metadata": {
        "colab": {
          "base_uri": "https://localhost:8080/",
          "height": 73
        },
        "id": "3TSeE37nzCy3",
        "outputId": "b1fb7727-d82b-47b4-c611-be1a6f651040"
      },
      "outputs": [
        {
          "output_type": "display_data",
          "data": {
            "text/plain": [
              "<IPython.core.display.HTML object>"
            ],
            "text/html": [
              "\n",
              "     <input type=\"file\" id=\"files-46e580e2-c9d3-4aa6-850b-737abc8d4f44\" name=\"files[]\" multiple disabled\n",
              "        style=\"border:none\" />\n",
              "     <output id=\"result-46e580e2-c9d3-4aa6-850b-737abc8d4f44\">\n",
              "      Upload widget is only available when the cell has been executed in the\n",
              "      current browser session. Please rerun this cell to enable.\n",
              "      </output>\n",
              "      <script>// Copyright 2017 Google LLC\n",
              "//\n",
              "// Licensed under the Apache License, Version 2.0 (the \"License\");\n",
              "// you may not use this file except in compliance with the License.\n",
              "// You may obtain a copy of the License at\n",
              "//\n",
              "//      http://www.apache.org/licenses/LICENSE-2.0\n",
              "//\n",
              "// Unless required by applicable law or agreed to in writing, software\n",
              "// distributed under the License is distributed on an \"AS IS\" BASIS,\n",
              "// WITHOUT WARRANTIES OR CONDITIONS OF ANY KIND, either express or implied.\n",
              "// See the License for the specific language governing permissions and\n",
              "// limitations under the License.\n",
              "\n",
              "/**\n",
              " * @fileoverview Helpers for google.colab Python module.\n",
              " */\n",
              "(function(scope) {\n",
              "function span(text, styleAttributes = {}) {\n",
              "  const element = document.createElement('span');\n",
              "  element.textContent = text;\n",
              "  for (const key of Object.keys(styleAttributes)) {\n",
              "    element.style[key] = styleAttributes[key];\n",
              "  }\n",
              "  return element;\n",
              "}\n",
              "\n",
              "// Max number of bytes which will be uploaded at a time.\n",
              "const MAX_PAYLOAD_SIZE = 100 * 1024;\n",
              "\n",
              "function _uploadFiles(inputId, outputId) {\n",
              "  const steps = uploadFilesStep(inputId, outputId);\n",
              "  const outputElement = document.getElementById(outputId);\n",
              "  // Cache steps on the outputElement to make it available for the next call\n",
              "  // to uploadFilesContinue from Python.\n",
              "  outputElement.steps = steps;\n",
              "\n",
              "  return _uploadFilesContinue(outputId);\n",
              "}\n",
              "\n",
              "// This is roughly an async generator (not supported in the browser yet),\n",
              "// where there are multiple asynchronous steps and the Python side is going\n",
              "// to poll for completion of each step.\n",
              "// This uses a Promise to block the python side on completion of each step,\n",
              "// then passes the result of the previous step as the input to the next step.\n",
              "function _uploadFilesContinue(outputId) {\n",
              "  const outputElement = document.getElementById(outputId);\n",
              "  const steps = outputElement.steps;\n",
              "\n",
              "  const next = steps.next(outputElement.lastPromiseValue);\n",
              "  return Promise.resolve(next.value.promise).then((value) => {\n",
              "    // Cache the last promise value to make it available to the next\n",
              "    // step of the generator.\n",
              "    outputElement.lastPromiseValue = value;\n",
              "    return next.value.response;\n",
              "  });\n",
              "}\n",
              "\n",
              "/**\n",
              " * Generator function which is called between each async step of the upload\n",
              " * process.\n",
              " * @param {string} inputId Element ID of the input file picker element.\n",
              " * @param {string} outputId Element ID of the output display.\n",
              " * @return {!Iterable<!Object>} Iterable of next steps.\n",
              " */\n",
              "function* uploadFilesStep(inputId, outputId) {\n",
              "  const inputElement = document.getElementById(inputId);\n",
              "  inputElement.disabled = false;\n",
              "\n",
              "  const outputElement = document.getElementById(outputId);\n",
              "  outputElement.innerHTML = '';\n",
              "\n",
              "  const pickedPromise = new Promise((resolve) => {\n",
              "    inputElement.addEventListener('change', (e) => {\n",
              "      resolve(e.target.files);\n",
              "    });\n",
              "  });\n",
              "\n",
              "  const cancel = document.createElement('button');\n",
              "  inputElement.parentElement.appendChild(cancel);\n",
              "  cancel.textContent = 'Cancel upload';\n",
              "  const cancelPromise = new Promise((resolve) => {\n",
              "    cancel.onclick = () => {\n",
              "      resolve(null);\n",
              "    };\n",
              "  });\n",
              "\n",
              "  // Wait for the user to pick the files.\n",
              "  const files = yield {\n",
              "    promise: Promise.race([pickedPromise, cancelPromise]),\n",
              "    response: {\n",
              "      action: 'starting',\n",
              "    }\n",
              "  };\n",
              "\n",
              "  cancel.remove();\n",
              "\n",
              "  // Disable the input element since further picks are not allowed.\n",
              "  inputElement.disabled = true;\n",
              "\n",
              "  if (!files) {\n",
              "    return {\n",
              "      response: {\n",
              "        action: 'complete',\n",
              "      }\n",
              "    };\n",
              "  }\n",
              "\n",
              "  for (const file of files) {\n",
              "    const li = document.createElement('li');\n",
              "    li.append(span(file.name, {fontWeight: 'bold'}));\n",
              "    li.append(span(\n",
              "        `(${file.type || 'n/a'}) - ${file.size} bytes, ` +\n",
              "        `last modified: ${\n",
              "            file.lastModifiedDate ? file.lastModifiedDate.toLocaleDateString() :\n",
              "                                    'n/a'} - `));\n",
              "    const percent = span('0% done');\n",
              "    li.appendChild(percent);\n",
              "\n",
              "    outputElement.appendChild(li);\n",
              "\n",
              "    const fileDataPromise = new Promise((resolve) => {\n",
              "      const reader = new FileReader();\n",
              "      reader.onload = (e) => {\n",
              "        resolve(e.target.result);\n",
              "      };\n",
              "      reader.readAsArrayBuffer(file);\n",
              "    });\n",
              "    // Wait for the data to be ready.\n",
              "    let fileData = yield {\n",
              "      promise: fileDataPromise,\n",
              "      response: {\n",
              "        action: 'continue',\n",
              "      }\n",
              "    };\n",
              "\n",
              "    // Use a chunked sending to avoid message size limits. See b/62115660.\n",
              "    let position = 0;\n",
              "    do {\n",
              "      const length = Math.min(fileData.byteLength - position, MAX_PAYLOAD_SIZE);\n",
              "      const chunk = new Uint8Array(fileData, position, length);\n",
              "      position += length;\n",
              "\n",
              "      const base64 = btoa(String.fromCharCode.apply(null, chunk));\n",
              "      yield {\n",
              "        response: {\n",
              "          action: 'append',\n",
              "          file: file.name,\n",
              "          data: base64,\n",
              "        },\n",
              "      };\n",
              "\n",
              "      let percentDone = fileData.byteLength === 0 ?\n",
              "          100 :\n",
              "          Math.round((position / fileData.byteLength) * 100);\n",
              "      percent.textContent = `${percentDone}% done`;\n",
              "\n",
              "    } while (position < fileData.byteLength);\n",
              "  }\n",
              "\n",
              "  // All done.\n",
              "  yield {\n",
              "    response: {\n",
              "      action: 'complete',\n",
              "    }\n",
              "  };\n",
              "}\n",
              "\n",
              "scope.google = scope.google || {};\n",
              "scope.google.colab = scope.google.colab || {};\n",
              "scope.google.colab._files = {\n",
              "  _uploadFiles,\n",
              "  _uploadFilesContinue,\n",
              "};\n",
              "})(self);\n",
              "</script> "
            ]
          },
          "metadata": {}
        },
        {
          "output_type": "stream",
          "name": "stdout",
          "text": [
            "Saving Salary_Data.csv to Salary_Data.csv\n"
          ]
        }
      ],
      "source": [
        "from google.colab import files\n",
        "uploaded = files.upload()\n"
      ]
    },
    {
      "cell_type": "code",
      "source": [
        "import os\n",
        "import shutil\n",
        "shutil.move('Salary_Data.csv', '/content/Salary_Data.csv')"
      ],
      "metadata": {
        "colab": {
          "base_uri": "https://localhost:8080/",
          "height": 36
        },
        "id": "yIqOaccS1-j4",
        "outputId": "52d7160b-ee2c-4ce4-a50e-77f94685455c"
      },
      "execution_count": null,
      "outputs": [
        {
          "output_type": "execute_result",
          "data": {
            "text/plain": [
              "'/content/Salary_Data.csv'"
            ],
            "application/vnd.google.colaboratory.intrinsic+json": {
              "type": "string"
            }
          },
          "metadata": {},
          "execution_count": 3
        }
      ]
    },
    {
      "cell_type": "code",
      "source": [
        "from pyspark.sql import SparkSession\n",
        "spark=SparkSession.builder.appName(\"optimizeExample\").getOrCreate()"
      ],
      "metadata": {
        "id": "QkGoqhW837Ag"
      },
      "execution_count": null,
      "outputs": []
    },
    {
      "cell_type": "code",
      "source": [
        "df=spark.read.csv(\"/content/Salary_Data.csv\",header=True,inferSchema=True)"
      ],
      "metadata": {
        "id": "gv68qP6k3bwa"
      },
      "execution_count": null,
      "outputs": []
    },
    {
      "cell_type": "code",
      "source": [
        "df.show(5)"
      ],
      "metadata": {
        "colab": {
          "base_uri": "https://localhost:8080/"
        },
        "id": "BqhD4O1x4zc8",
        "outputId": "0dc6957d-8f8e-4327-b003-1e868e2c1ee9"
      },
      "execution_count": null,
      "outputs": [
        {
          "output_type": "stream",
          "name": "stdout",
          "text": [
            "+---+------+---------------+-----------------+-------------------+------+\n",
            "|Age|Gender|Education Level|        Job Title|Years of Experience|Salary|\n",
            "+---+------+---------------+-----------------+-------------------+------+\n",
            "| 32|  Male|     Bachelor's|Software Engineer|                5.0| 90000|\n",
            "| 28|Female|       Master's|     Data Analyst|                3.0| 65000|\n",
            "| 45|  Male|            PhD|   Senior Manager|               15.0|150000|\n",
            "| 36|Female|     Bachelor's|  Sales Associate|                7.0| 60000|\n",
            "| 52|  Male|       Master's|         Director|               20.0|200000|\n",
            "+---+------+---------------+-----------------+-------------------+------+\n",
            "only showing top 5 rows\n",
            "\n"
          ]
        }
      ]
    },
    {
      "cell_type": "code",
      "source": [
        "df.printSchema()"
      ],
      "metadata": {
        "colab": {
          "base_uri": "https://localhost:8080/"
        },
        "id": "I82nFMAY5c0u",
        "outputId": "16bc63e6-bbac-4c0b-fe94-f32036d6698b"
      },
      "execution_count": null,
      "outputs": [
        {
          "output_type": "stream",
          "name": "stdout",
          "text": [
            "root\n",
            " |-- Age: integer (nullable = true)\n",
            " |-- Gender: string (nullable = true)\n",
            " |-- Education Level: string (nullable = true)\n",
            " |-- Job Title: string (nullable = true)\n",
            " |-- Years of Experience: double (nullable = true)\n",
            " |-- Salary: integer (nullable = true)\n",
            "\n"
          ]
        }
      ]
    },
    {
      "cell_type": "code",
      "source": [
        "df.groupBy(\"Age\").count().show()"
      ],
      "metadata": {
        "colab": {
          "base_uri": "https://localhost:8080/"
        },
        "id": "qhjGpm5wtba7",
        "outputId": "c0358348-c4e2-4573-e8fc-c647fcde88d0"
      },
      "execution_count": null,
      "outputs": [
        {
          "output_type": "stream",
          "name": "stdout",
          "text": [
            "+----+-----+\n",
            "| Age|count|\n",
            "+----+-----+\n",
            "|  31|  365|\n",
            "|  53|    7|\n",
            "|  34|  309|\n",
            "|  28|  429|\n",
            "|  26|  394|\n",
            "|  27|  517|\n",
            "|  44|  126|\n",
            "|  22|   15|\n",
            "|  47|   47|\n",
            "|NULL|    2|\n",
            "|  52|   29|\n",
            "|  40|   92|\n",
            "|  57|    9|\n",
            "|  54|   68|\n",
            "|  48|   98|\n",
            "|  41|  129|\n",
            "|  43|  158|\n",
            "|  37|  156|\n",
            "|  61|    2|\n",
            "|  35|  200|\n",
            "+----+-----+\n",
            "only showing top 20 rows\n",
            "\n"
          ]
        }
      ]
    },
    {
      "cell_type": "code",
      "source": [
        "from pyspark.sql.functions import avg\n",
        "\n",
        "# Corrected code with unique aliases\n",
        "df.groupBy(\"Salary\").agg(\n",
        "    avg(\"Years of Experience\").alias(\"Average Years of Experience\"),\n",
        "    avg(\"Age\").alias(\"Average Age\")\n",
        ").show()"
      ],
      "metadata": {
        "colab": {
          "base_uri": "https://localhost:8080/"
        },
        "id": "RrxgeZVVv5BO",
        "outputId": "1e76b675-1a44-4998-9b12-b867b935b11b"
      },
      "execution_count": null,
      "outputs": [
        {
          "output_type": "stream",
          "name": "stdout",
          "text": [
            "+------+---------------------------+------------------+\n",
            "|Salary|Average Years of Experience|       Average Age|\n",
            "+------+---------------------------+------------------+\n",
            "|135000|          9.534246575342467|35.821917808219176|\n",
            "|182237|                       22.0|              49.0|\n",
            "|113000|                       10.0|              37.0|\n",
            "| 85000|          5.850467289719626|31.018691588785046|\n",
            "|145000|          8.859649122807017| 34.05263157894737|\n",
            "| 75969|                        4.0|              27.0|\n",
            "| 70216|                        3.0|              26.0|\n",
            "|106492|                        8.0|              36.0|\n",
            "|184006|                       24.0|              48.0|\n",
            "|113334|                       10.0|              33.0|\n",
            "| 67556|                        3.0|              26.0|\n",
            "|128078|                       11.0|              32.0|\n",
            "|146000|                       14.0|              43.0|\n",
            "|173582|                       21.0|              47.0|\n",
            "|182392|                       23.0|              49.0|\n",
            "| 91000|                        7.0|              36.0|\n",
            "|152944|                       19.0|              43.0|\n",
            "|183020|                       30.0|              55.0|\n",
            "|188288|                       23.0|              48.0|\n",
            "|134979|                       11.0|              35.0|\n",
            "+------+---------------------------+------------------+\n",
            "only showing top 20 rows\n",
            "\n"
          ]
        }
      ]
    },
    {
      "cell_type": "code",
      "source": [
        "\n",
        "# Choose a valid column for analysis\n",
        "valid_column = \"saving\"  # Change to any suitable column from your dataset"
      ],
      "metadata": {
        "id": "OGNJwnz6zL-2"
      },
      "execution_count": null,
      "outputs": []
    },
    {
      "cell_type": "code",
      "source": [
        "\n",
        "# Import the required module\n",
        "import time\n",
        "\n",
        "\n",
        "\n",
        "\n"
      ],
      "metadata": {
        "id": "YrSTe-29wfIF"
      },
      "execution_count": null,
      "outputs": []
    },
    {
      "cell_type": "code",
      "source": [
        "# Measure execution time with caching\n",
        "df.cache()  # Cache the DataFrame\n",
        "start_time_cached = time.time()\n",
        "df.groupBy(\"Age\").count().show()\n",
        "end_time_cached = time.time()\n",
        "print(\"Execution Time (Without Cache):\", end_time_cached - start_time_cached)"
      ],
      "metadata": {
        "colab": {
          "base_uri": "https://localhost:8080/"
        },
        "id": "alZtA1Uxwpup",
        "outputId": "caea8e42-ad32-4b17-c2f0-53c48a07ffd6"
      },
      "execution_count": null,
      "outputs": [
        {
          "output_type": "stream",
          "name": "stdout",
          "text": [
            "+----+-----+\n",
            "| Age|count|\n",
            "+----+-----+\n",
            "|  31|  365|\n",
            "|  53|    7|\n",
            "|  34|  309|\n",
            "|  28|  429|\n",
            "|  26|  394|\n",
            "|  27|  517|\n",
            "|  44|  126|\n",
            "|  22|   15|\n",
            "|  47|   47|\n",
            "|NULL|    2|\n",
            "|  52|   29|\n",
            "|  40|   92|\n",
            "|  57|    9|\n",
            "|  54|   68|\n",
            "|  48|   98|\n",
            "|  41|  129|\n",
            "|  43|  158|\n",
            "|  37|  156|\n",
            "|  61|    2|\n",
            "|  35|  200|\n",
            "+----+-----+\n",
            "only showing top 20 rows\n",
            "\n",
            "Execution Time (Without Cache): 0.8961763381958008\n"
          ]
        }
      ]
    },
    {
      "cell_type": "code",
      "source": [
        "\n",
        "# Cache the DataFrame\n",
        "df.cache()\n",
        "\n",
        "# Measure execution time after caching\n",
        "start_time = time.time()\n",
        "df.groupBy(\"Salary\").count().show()\n",
        "end_time = time.time()\n",
        "print(\"Execution Time (With Cache):\", end_time - start_time)\n",
        "\n",
        "\n"
      ],
      "metadata": {
        "colab": {
          "base_uri": "https://localhost:8080/"
        },
        "id": "tSAVPjI00Btj",
        "outputId": "813d1c60-a4c4-4a52-cdde-27e1fb33d77b"
      },
      "execution_count": null,
      "outputs": [
        {
          "output_type": "stream",
          "name": "stdout",
          "text": [
            "+------+-----+\n",
            "|Salary|count|\n",
            "+------+-----+\n",
            "|135000|   73|\n",
            "|182237|    1|\n",
            "|113000|    8|\n",
            "| 85000|  107|\n",
            "|145000|   57|\n",
            "| 75969|    1|\n",
            "| 70216|    4|\n",
            "|106492|    2|\n",
            "|184006|    1|\n",
            "|113334|    3|\n",
            "| 67556|    1|\n",
            "|128078|    2|\n",
            "|146000|    8|\n",
            "|173582|    1|\n",
            "|182392|    3|\n",
            "| 91000|    1|\n",
            "|152944|    1|\n",
            "|183020|    1|\n",
            "|188288|    1|\n",
            "|134979|    1|\n",
            "+------+-----+\n",
            "only showing top 20 rows\n",
            "\n",
            "Execution Time (With Cache): 0.5915489196777344\n"
          ]
        }
      ]
    },
    {
      "cell_type": "code",
      "source": [
        "from pyspark import StorageLevel\n",
        "\n",
        "df.persist(StorageLevel.MEMORY_AND_DISK)\n",
        "\n",
        "start_time = time.time()\n",
        "df.groupBy(\"Salary\").count().show()\n",
        "end_time = time.time()\n",
        "print(\"Execution Time (With Persist):\", end_time - start_time)\n",
        "\n",
        "df.unpersist()\n"
      ],
      "metadata": {
        "colab": {
          "base_uri": "https://localhost:8080/"
        },
        "id": "MbdRYwbHznD3",
        "outputId": "7e0d37eb-266f-40ed-ec45-7d840d012db9"
      },
      "execution_count": null,
      "outputs": [
        {
          "output_type": "stream",
          "name": "stdout",
          "text": [
            "+------+-----+\n",
            "|Salary|count|\n",
            "+------+-----+\n",
            "|135000|   73|\n",
            "|182237|    1|\n",
            "|113000|    8|\n",
            "| 85000|  107|\n",
            "|145000|   57|\n",
            "| 75969|    1|\n",
            "| 70216|    4|\n",
            "|106492|    2|\n",
            "|184006|    1|\n",
            "|113334|    3|\n",
            "| 67556|    1|\n",
            "|128078|    2|\n",
            "|146000|    8|\n",
            "|173582|    1|\n",
            "|182392|    3|\n",
            "| 91000|    1|\n",
            "|152944|    1|\n",
            "|183020|    1|\n",
            "|188288|    1|\n",
            "|134979|    1|\n",
            "+------+-----+\n",
            "only showing top 20 rows\n",
            "\n",
            "Execution Time (With Persist): 0.3278172016143799\n"
          ]
        },
        {
          "output_type": "execute_result",
          "data": {
            "text/plain": [
              "DataFrame[Age: int, Gender: string, Education Level: string, Job Title: string, Years of Experience: double, Salary: int]"
            ]
          },
          "metadata": {},
          "execution_count": 17
        }
      ]
    },
    {
      "cell_type": "code",
      "source": [
        "\n",
        "df_repartitioned = df.repartition(10)\n",
        "\n",
        "print(\"Number of partitions after repartitioning:\", df_repartitioned.rdd.getNumPartitions())\n",
        "\n",
        "\n",
        "df_coalesced = df.repartition(10).coalesce(5)\n",
        "\n",
        "print(\"Number of partitions after coalescing:\", df_coalesced.rdd.getNumPartitions())\n",
        "\n"
      ],
      "metadata": {
        "colab": {
          "base_uri": "https://localhost:8080/"
        },
        "id": "lKyO_Npw1APt",
        "outputId": "f9dc37ca-fa8b-4ae1-cab6-5f11ef24e494"
      },
      "execution_count": null,
      "outputs": [
        {
          "output_type": "stream",
          "name": "stdout",
          "text": [
            "Number of partitions after repartitioning: 10\n",
            "Number of partitions after coalescing: 5\n"
          ]
        }
      ]
    },
    {
      "cell_type": "code",
      "source": [
        "df_selected = df.select(\"Salary\", \"Age\", \"Gender\")\n",
        "df_selected.show(5)"
      ],
      "metadata": {
        "colab": {
          "base_uri": "https://localhost:8080/"
        },
        "id": "FzpdRRfT3Ig9",
        "outputId": "f1cbc3a7-cd4b-44f7-f6ab-dea690102834"
      },
      "execution_count": null,
      "outputs": [
        {
          "output_type": "stream",
          "name": "stdout",
          "text": [
            "+------+---+------+\n",
            "|Salary|Age|Gender|\n",
            "+------+---+------+\n",
            "| 90000| 32|  Male|\n",
            "| 65000| 28|Female|\n",
            "|150000| 45|  Male|\n",
            "| 60000| 36|Female|\n",
            "|200000| 52|  Male|\n",
            "+------+---+------+\n",
            "only showing top 5 rows\n",
            "\n"
          ]
        }
      ]
    },
    {
      "cell_type": "code",
      "source": [
        "\n",
        "df.write.parquet(\"/mnt/data/optimized.parquet\")"
      ],
      "metadata": {
        "id": "yoen_SOi2_Zc"
      },
      "execution_count": null,
      "outputs": []
    },
    {
      "cell_type": "code",
      "source": [
        "row_count = df.select(\"Age\").distinct().count()\n",
        "print(\"Number of unique users:\", row_count)\n",
        "\n"
      ],
      "metadata": {
        "colab": {
          "base_uri": "https://localhost:8080/"
        },
        "id": "8rM0Vaa-3dUM",
        "outputId": "d2635c34-e4d8-46d4-bfe3-dbe447583a50"
      },
      "execution_count": null,
      "outputs": [
        {
          "output_type": "stream",
          "name": "stdout",
          "text": [
            "Number of unique users: 42\n"
          ]
        }
      ]
    },
    {
      "cell_type": "code",
      "source": [
        "\n",
        "spark.conf.set(\"spark.sql.adaptive.enabled\", \"true\")"
      ],
      "metadata": {
        "id": "s8QcykNM4Io8"
      },
      "execution_count": null,
      "outputs": []
    },
    {
      "cell_type": "code",
      "source": [
        "\n",
        "import time\n",
        "\n",
        "start_time = time.time()\n",
        "df_filtered = df.filter(df.Salary == \"false\").groupBy(\"Gender\").count()\n",
        "df_filtered.show()\n",
        "end_time = time.time()\n",
        "print(\"Execution Time (Without Cache):\", end_time - start_time)\n",
        "\n",
        "df.cache()\n",
        "start_time = time.time()\n",
        "df_filtered = df.filter(df.Salary == \"false\").groupBy(\"Gender\").count()\n",
        "df_filtered.show()\n",
        "end_time = time.time()\n",
        "print(\"Execution Time (With Cache):\", end_time - start_time)\n"
      ],
      "metadata": {
        "colab": {
          "base_uri": "https://localhost:8080/"
        },
        "id": "LQJFXETq4K21",
        "outputId": "0e57dbb3-0daf-4c6a-ce54-9da04b32cb2b"
      },
      "execution_count": null,
      "outputs": [
        {
          "output_type": "stream",
          "name": "stdout",
          "text": [
            "+------+-----+\n",
            "|Gender|count|\n",
            "+------+-----+\n",
            "+------+-----+\n",
            "\n",
            "Execution Time (Without Cache): 0.11007237434387207\n",
            "+------+-----+\n",
            "|Gender|count|\n",
            "+------+-----+\n",
            "+------+-----+\n",
            "\n",
            "Execution Time (With Cache): 0.05798006057739258\n"
          ]
        }
      ]
    },
    {
      "cell_type": "code",
      "source": [
        "\n",
        "\n",
        "\n",
        "print(\"Number of partitions:\", df.rdd.getNumPartitions())\n"
      ],
      "metadata": {
        "colab": {
          "base_uri": "https://localhost:8080/"
        },
        "id": "VWTZf4G35O-a",
        "outputId": "43c25bf6-fb28-45b9-dded-a421dcfccc18"
      },
      "execution_count": null,
      "outputs": [
        {
          "output_type": "stream",
          "name": "stdout",
          "text": [
            "Number of partitions: 1\n"
          ]
        }
      ]
    },
    {
      "cell_type": "code",
      "source": [
        "\n",
        "df_repartitioned = df.repartition(8)\n",
        "print(\"Partitions after repartition:\", df_repartitioned.rdd.getNumPartitions())\n",
        "\n"
      ],
      "metadata": {
        "colab": {
          "base_uri": "https://localhost:8080/"
        },
        "id": "GiXSAfIG8jPK",
        "outputId": "a52c825a-b27a-4079-c81f-185626079db5"
      },
      "execution_count": null,
      "outputs": [
        {
          "output_type": "stream",
          "name": "stdout",
          "text": [
            "Partitions after repartition: 8\n"
          ]
        }
      ]
    },
    {
      "cell_type": "code",
      "source": [
        "\n",
        "\n",
        "df_coalesced = df.repartition(8).coalesce(4)\n",
        "print(\"Partitions after coalesce:\", df_coalesced.rdd.getNumPartitions())\n"
      ],
      "metadata": {
        "colab": {
          "base_uri": "https://localhost:8080/"
        },
        "id": "o8wCoDNE8r_8",
        "outputId": "7b4879bb-080b-4cda-d99e-514bad38dec6"
      },
      "execution_count": null,
      "outputs": [
        {
          "output_type": "stream",
          "name": "stdout",
          "text": [
            "Partitions after coalesce: 4\n"
          ]
        }
      ]
    },
    {
      "cell_type": "code",
      "source": [
        "\n",
        "df_unique = df.dropDuplicates([\"Salary\", \"Age\"])\n",
        "df_unique.show()\n",
        "\n"
      ],
      "metadata": {
        "colab": {
          "base_uri": "https://localhost:8080/"
        },
        "id": "hpGNt7Vz81ZS",
        "outputId": "91aa16ec-d474-45fb-eba4-590f7e9b566f"
      },
      "execution_count": null,
      "outputs": [
        {
          "output_type": "stream",
          "name": "stdout",
          "text": [
            "+----+------+-----------------+--------------------+-------------------+------+\n",
            "| Age|Gender|  Education Level|           Job Title|Years of Experience|Salary|\n",
            "+----+------+-----------------+--------------------+-------------------+------+\n",
            "|NULL|  NULL|             NULL|                NULL|               NULL|  NULL|\n",
            "|  26|Female|Bachelor's Degree|            Social M|               NULL|  NULL|\n",
            "|  31|  Male|  Master's Degree| Full Stack Engineer|                8.0|  NULL|\n",
            "|  36|  Male|Bachelor's Degree|      Sales Director|                6.0|  NULL|\n",
            "|  29|  Male|       Bachelor's|Junior Business O...|                1.5|   350|\n",
            "|  31|Female|Bachelor's Degree|Junior HR Coordin...|                4.0|   500|\n",
            "|  25|Female|Bachelor's Degree| Front end Developer|                1.0|   550|\n",
            "|  23|  Male|              PhD|Software Engineer...|                1.0|   579|\n",
            "|  21|Female|      High School|Junior Sales Repr...|                0.0| 25000|\n",
            "|  22|  Male|      High School|Junior Sales Asso...|                1.0| 25000|\n",
            "|  23|  Male|      High School|Junior Sales Asso...|                1.0| 25000|\n",
            "|  24|  Male|      High School|Junior Sales Asso...|                1.0| 25000|\n",
            "|  25|Female|      High School|     Sales Associate|                0.0| 25000|\n",
            "|  28|Female|      High School|Junior Sales Asso...|                1.0| 25000|\n",
            "|  29|Female|      High School|Junior Sales Asso...|                1.0| 25000|\n",
            "|  30|Female|      High School|Junior Sales Asso...|                1.0| 25000|\n",
            "|  31|Female|      High School|Junior Sales Asso...|                1.0| 25000|\n",
            "|  33|  Male|      High School|Junior Sales Asso...|                1.0| 25000|\n",
            "|  23|  Male|      High School|Junior Sales Asso...|                1.0| 26000|\n",
            "|  24|  Male|      High School|Junior Sales Asso...|                1.0| 26000|\n",
            "+----+------+-----------------+--------------------+-------------------+------+\n",
            "only showing top 20 rows\n",
            "\n"
          ]
        }
      ]
    },
    {
      "cell_type": "code",
      "source": [
        "from pyspark.sql.functions import udf\n",
        "from pyspark.sql.types import StringType\n",
        "\n",
        "def check_Salary(Salary):\n",
        "    return \"High\" if Salary == \"high\" else \"Low\"\n",
        "\n",
        "udf_check_Salary = udf(check_Salary, StringType())\n",
        "\n",
        "df = df.withColumn(\"Years of Experience\", udf_check_Salary(df.Salary))\n",
        "df.show()\n"
      ],
      "metadata": {
        "colab": {
          "base_uri": "https://localhost:8080/"
        },
        "id": "vOYSrznK9EYe",
        "outputId": "0433a102-a8fd-44fd-9734-fdbd191532a4"
      },
      "execution_count": null,
      "outputs": [
        {
          "output_type": "stream",
          "name": "stdout",
          "text": [
            "+---+------+---------------+--------------------+-------------------+------+\n",
            "|Age|Gender|Education Level|           Job Title|Years of Experience|Salary|\n",
            "+---+------+---------------+--------------------+-------------------+------+\n",
            "| 32|  Male|     Bachelor's|   Software Engineer|                Low| 90000|\n",
            "| 28|Female|       Master's|        Data Analyst|                Low| 65000|\n",
            "| 45|  Male|            PhD|      Senior Manager|                Low|150000|\n",
            "| 36|Female|     Bachelor's|     Sales Associate|                Low| 60000|\n",
            "| 52|  Male|       Master's|            Director|                Low|200000|\n",
            "| 29|  Male|     Bachelor's|   Marketing Analyst|                Low| 55000|\n",
            "| 42|Female|       Master's|     Product Manager|                Low|120000|\n",
            "| 31|  Male|     Bachelor's|       Sales Manager|                Low| 80000|\n",
            "| 26|Female|     Bachelor's|Marketing Coordin...|                Low| 45000|\n",
            "| 38|  Male|            PhD|    Senior Scientist|                Low|110000|\n",
            "| 29|  Male|       Master's|  Software Developer|                Low| 75000|\n",
            "| 48|Female|     Bachelor's|          HR Manager|                Low|140000|\n",
            "| 35|  Male|     Bachelor's|   Financial Analyst|                Low| 65000|\n",
            "| 40|Female|       Master's|     Project Manager|                Low|130000|\n",
            "| 27|  Male|     Bachelor's|Customer Service Rep|                Low| 40000|\n",
            "| 44|  Male|     Bachelor's|  Operations Manager|                Low|125000|\n",
            "| 33|Female|       Master's|   Marketing Manager|                Low| 90000|\n",
            "| 39|  Male|            PhD|     Senior Engineer|                Low|115000|\n",
            "| 25|Female|     Bachelor's|    Data Entry Clerk|                Low| 35000|\n",
            "| 51|  Male|     Bachelor's|      Sales Director|                Low|180000|\n",
            "+---+------+---------------+--------------------+-------------------+------+\n",
            "only showing top 20 rows\n",
            "\n"
          ]
        }
      ]
    },
    {
      "cell_type": "code",
      "source": [
        "\n",
        "\n",
        "from pyspark.sql.functions import when, col\n",
        "\n",
        "df = df.withColumn(\n",
        "    \" Job Title\",\n",
        "    when(col(\"Salary\") == \"high\", \"High\").otherwise(\"Low\")\n",
        ")\n",
        "df.show()\n"
      ],
      "metadata": {
        "colab": {
          "base_uri": "https://localhost:8080/"
        },
        "id": "QIBr5NWx-NXf",
        "outputId": "84bcb8df-8f9f-4758-ca3a-cdcff108eef0"
      },
      "execution_count": null,
      "outputs": [
        {
          "output_type": "stream",
          "name": "stdout",
          "text": [
            "+---+------+---------------+--------------------+-------------------+------+----------+\n",
            "|Age|Gender|Education Level|           Job Title|Years of Experience|Salary| Job Title|\n",
            "+---+------+---------------+--------------------+-------------------+------+----------+\n",
            "| 32|  Male|     Bachelor's|   Software Engineer|                Low| 90000|       Low|\n",
            "| 28|Female|       Master's|        Data Analyst|                Low| 65000|       Low|\n",
            "| 45|  Male|            PhD|      Senior Manager|                Low|150000|       Low|\n",
            "| 36|Female|     Bachelor's|     Sales Associate|                Low| 60000|       Low|\n",
            "| 52|  Male|       Master's|            Director|                Low|200000|       Low|\n",
            "| 29|  Male|     Bachelor's|   Marketing Analyst|                Low| 55000|       Low|\n",
            "| 42|Female|       Master's|     Product Manager|                Low|120000|       Low|\n",
            "| 31|  Male|     Bachelor's|       Sales Manager|                Low| 80000|       Low|\n",
            "| 26|Female|     Bachelor's|Marketing Coordin...|                Low| 45000|       Low|\n",
            "| 38|  Male|            PhD|    Senior Scientist|                Low|110000|       Low|\n",
            "| 29|  Male|       Master's|  Software Developer|                Low| 75000|       Low|\n",
            "| 48|Female|     Bachelor's|          HR Manager|                Low|140000|       Low|\n",
            "| 35|  Male|     Bachelor's|   Financial Analyst|                Low| 65000|       Low|\n",
            "| 40|Female|       Master's|     Project Manager|                Low|130000|       Low|\n",
            "| 27|  Male|     Bachelor's|Customer Service Rep|                Low| 40000|       Low|\n",
            "| 44|  Male|     Bachelor's|  Operations Manager|                Low|125000|       Low|\n",
            "| 33|Female|       Master's|   Marketing Manager|                Low| 90000|       Low|\n",
            "| 39|  Male|            PhD|     Senior Engineer|                Low|115000|       Low|\n",
            "| 25|Female|     Bachelor's|    Data Entry Clerk|                Low| 35000|       Low|\n",
            "| 51|  Male|     Bachelor's|      Sales Director|                Low|180000|       Low|\n",
            "+---+------+---------------+--------------------+-------------------+------+----------+\n",
            "only showing top 20 rows\n",
            "\n"
          ]
        }
      ]
    }
  ]
}