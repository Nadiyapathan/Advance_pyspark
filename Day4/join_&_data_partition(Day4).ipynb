{
  "nbformat": 4,
  "nbformat_minor": 0,
  "metadata": {
    "colab": {
      "provenance": []
    },
    "kernelspec": {
      "name": "python3",
      "display_name": "Python 3"
    },
    "language_info": {
      "name": "python"
    }
  },
  "cells": [
    {
      "cell_type": "code",
      "execution_count": null,
      "metadata": {
        "id": "8F86GmwkfmoC"
      },
      "outputs": [],
      "source": [
        "#spark Session\n",
        "from pyspark .sql import SparkSession\n",
        "spark=(SparkSession .builder.appName(\"joins and Data Partitions\").getOrCreate())"
      ]
    },
    {
      "cell_type": "code",
      "source": [
        "emp_df=spark.read.csv(\"/content/employees.csv\",header=True,inferSchema=True)"
      ],
      "metadata": {
        "id": "fy6zgvavoKjQ"
      },
      "execution_count": null,
      "outputs": []
    },
    {
      "cell_type": "code",
      "source": [
        "emp_df.show()"
      ],
      "metadata": {
        "colab": {
          "base_uri": "https://localhost:8080/"
        },
        "id": "azFzfUL3p2b5",
        "outputId": "c880083a-94e1-4e31-8e64-723baf19a24c"
      },
      "execution_count": null,
      "outputs": [
        {
          "output_type": "stream",
          "name": "stdout",
          "text": [
            "+-----------+--------+--------------------+-----------------+\n",
            "|Employee ID|Store ID|                Name|         Position|\n",
            "+-----------+--------+--------------------+-----------------+\n",
            "|          1|       1|     Stephen Johnson|    Store Manager|\n",
            "|          2|       1|       Rebecca Myers|Assistant Manager|\n",
            "|          3|       1|  Katherine Buchanan|          Cashier|\n",
            "|          4|       1|       Jessica Hicks|      Stock Clerk|\n",
            "|          5|       1|          Ryan Gross|  Sales Associate|\n",
            "|          6|       1|     Jeffery Carlson|  Sales Associate|\n",
            "|          7|       1|      Melissa Wilson|  Sales Associate|\n",
            "|          8|       1|        Edward Hicks|  Sales Associate|\n",
            "|          9|       1|        Shari Jordan|  Sales Associate|\n",
            "|         10|       1|Mrs. Melissa Cald...|  Sales Associate|\n",
            "|         11|       1|       Regina Nelson|  Sales Associate|\n",
            "|         12|       1|        Kevin Dawson|  Sales Associate|\n",
            "|         13|       1|       Nicole Murphy|  Sales Associate|\n",
            "|         14|       2|         Susan Brown|    Store Manager|\n",
            "|         15|       2|         Sean Miller|Assistant Manager|\n",
            "|         16|       2|Christopher Domin...|          Cashier|\n",
            "|         17|       2|          Lisa Mason|      Stock Clerk|\n",
            "|         18|       2|         David Pitts|  Sales Associate|\n",
            "|         19|       2|       Lance Schultz|  Sales Associate|\n",
            "|         20|       2|       Caroline Hall|  Sales Associate|\n",
            "+-----------+--------+--------------------+-----------------+\n",
            "only showing top 20 rows\n",
            "\n"
          ]
        }
      ]
    },
    {
      "cell_type": "code",
      "source": [
        "emp_df. printSchema()"
      ],
      "metadata": {
        "colab": {
          "base_uri": "https://localhost:8080/"
        },
        "id": "FlOdMZWfp79U",
        "outputId": "ad11589b-9ecd-4d99-d25f-43fda9a6236d"
      },
      "execution_count": null,
      "outputs": [
        {
          "output_type": "stream",
          "name": "stdout",
          "text": [
            "root\n",
            " |-- Employee ID: integer (nullable = true)\n",
            " |-- Store ID: integer (nullable = true)\n",
            " |-- Name: string (nullable = true)\n",
            " |-- Position: string (nullable = true)\n",
            "\n"
          ]
        }
      ]
    },
    {
      "cell_type": "code",
      "source": [
        "dis_df=spark.read.csv(\"/content/discounts.csv\",header=True,inferSchema=True)\n",
        "\n",
        "dis_df.show()\n",
        "\n",
        "dis_df.printSchema()"
      ],
      "metadata": {
        "colab": {
          "base_uri": "https://localhost:8080/"
        },
        "id": "vXc3h7L_p_mS",
        "outputId": "4f1ec481-1147-4184-bbcd-162bda4efa7e"
      },
      "execution_count": null,
      "outputs": [
        {
          "output_type": "stream",
          "name": "stdout",
          "text": [
            "+----------+----------+-------+--------------------+---------+--------------------+\n",
            "|     Start|       End|Discont|         Description| Category|        Sub Category|\n",
            "+----------+----------+-------+--------------------+---------+--------------------+\n",
            "|2020-01-01|2020-01-10|    0.4|40% discount duri...| Feminine|   Coats and Blazers|\n",
            "|2020-01-01|2020-01-10|    0.4|40% discount duri...| Feminine|Sweaters and Knit...|\n",
            "|2020-01-01|2020-01-10|    0.4|40% discount duri...|Masculine|   Coats and Blazers|\n",
            "|2020-01-01|2020-01-10|    0.4|40% discount duri...|Masculine|Sweaters and Swea...|\n",
            "|2020-01-01|2020-01-10|    0.4|40% discount duri...| Children|               Coats|\n",
            "|2020-01-01|2020-01-10|    0.4|40% discount duri...| Children|            Sweaters|\n",
            "|2020-03-15|2020-03-31|   0.35|35% discount duri...| Feminine|Dresses and Jumps...|\n",
            "|2020-03-15|2020-03-31|   0.35|35% discount duri...| Feminine|  Shirts and Blouses|\n",
            "|2020-03-15|2020-03-31|   0.35|35% discount duri...|Masculine|  T-shirts and Polos|\n",
            "|2020-03-15|2020-03-31|   0.35|35% discount duri...|Masculine|              Shirts|\n",
            "|2020-03-15|2020-03-31|   0.35|35% discount duri...| Children|Girl and Boy (1-5...|\n",
            "|2020-05-01|2020-05-15|   0.25|25% discount duri...| Feminine|   T-shirts and Tops|\n",
            "|2020-05-01|2020-05-15|   0.25|25% discount duri...| Feminine|   Skirts and Shorts|\n",
            "|2020-05-01|2020-05-15|   0.25|25% discount duri...| Feminine|Dresses and Jumps...|\n",
            "|2020-05-01|2020-05-15|   0.25|25% discount duri...|Masculine|  T-shirts and Polos|\n",
            "|2020-05-01|2020-05-15|   0.25|25% discount duri...|Masculine|     Pants and Jeans|\n",
            "|2020-05-01|2020-05-15|   0.25|25% discount duri...| Children|Girl and Boy (1-5...|\n",
            "|2020-05-01|2020-05-15|   0.25|25% discount duri...| Children|             Pajamas|\n",
            "|2020-05-01|2020-05-15|   0.25|25% discount duri...| Children|         Accessories|\n",
            "|2020-09-01|2020-09-15|   0.45|45% discount duri...| Feminine|Dresses and Jumps...|\n",
            "+----------+----------+-------+--------------------+---------+--------------------+\n",
            "only showing top 20 rows\n",
            "\n",
            "root\n",
            " |-- Start: date (nullable = true)\n",
            " |-- End: date (nullable = true)\n",
            " |-- Discont: double (nullable = true)\n",
            " |-- Description: string (nullable = true)\n",
            " |-- Category: string (nullable = true)\n",
            " |-- Sub Category: string (nullable = true)\n",
            "\n"
          ]
        }
      ]
    },
    {
      "cell_type": "code",
      "source": [
        "#gettting no of partition of emp\n",
        "emp_df.rdd.getNumPartitions()"
      ],
      "metadata": {
        "colab": {
          "base_uri": "https://localhost:8080/"
        },
        "id": "QA4C--Oes_-m",
        "outputId": "e8cfd1a9-00fd-40b0-f538-379ffaa8da1d"
      },
      "execution_count": null,
      "outputs": [
        {
          "output_type": "execute_result",
          "data": {
            "text/plain": [
              "1"
            ]
          },
          "metadata": {},
          "execution_count": 24
        }
      ]
    },
    {
      "cell_type": "code",
      "source": [
        "dis_df.rdd.getNumPartitions()"
      ],
      "metadata": {
        "colab": {
          "base_uri": "https://localhost:8080/"
        },
        "id": "Vf36YbADuD1p",
        "outputId": "2cd9f101-c55e-4b74-f159-b285a7828c1a"
      },
      "execution_count": null,
      "outputs": [
        {
          "output_type": "execute_result",
          "data": {
            "text/plain": [
              "1"
            ]
          },
          "metadata": {},
          "execution_count": 12
        }
      ]
    },
    {
      "cell_type": "code",
      "source": [
        "#repartition of data using repartitions and coalesc\n",
        "emp_df_repartitioned=emp_df.repartition(100)\n",
        "\n",
        "#get the number of partitions\n",
        "\n",
        "emp_df_repartitioned.rdd.getNumPartitions()\n"
      ],
      "metadata": {
        "colab": {
          "base_uri": "https://localhost:8080/"
        },
        "id": "adEw5XlWuU73",
        "outputId": "075d8225-891e-4427-e837-62e2e89554b9"
      },
      "execution_count": null,
      "outputs": [
        {
          "output_type": "execute_result",
          "data": {
            "text/plain": [
              "100"
            ]
          },
          "metadata": {},
          "execution_count": 33
        }
      ]
    },
    {
      "cell_type": "code",
      "source": [
        "emp_df_repartitioned=emp_df.coalesce(1)"
      ],
      "metadata": {
        "id": "h8689KMY2YTn"
      },
      "execution_count": null,
      "outputs": []
    },
    {
      "cell_type": "code",
      "source": [
        "#finding the partitions and repartition\n",
        "from pyspark .sql.functions import spark_partition_id"
      ],
      "metadata": {
        "id": "_7C0TmpS2rsw"
      },
      "execution_count": null,
      "outputs": []
    },
    {
      "cell_type": "code",
      "source": [
        "emp_df_i=emp_df.withColumn(\"partiton_num\",spark_partition_id())"
      ],
      "metadata": {
        "id": "vjdOxjjs3J57"
      },
      "execution_count": null,
      "outputs": []
    },
    {
      "cell_type": "code",
      "source": [
        "emp_df_i.show()"
      ],
      "metadata": {
        "colab": {
          "base_uri": "https://localhost:8080/"
        },
        "id": "5skPDAVr3gof",
        "outputId": "9211d28d-44b5-434a-8fc7-3592c591abe5"
      },
      "execution_count": null,
      "outputs": [
        {
          "output_type": "stream",
          "name": "stdout",
          "text": [
            "+-----------+--------+--------------------+-----------------+------------+\n",
            "|Employee ID|Store ID|                Name|         Position|partiton_num|\n",
            "+-----------+--------+--------------------+-----------------+------------+\n",
            "|          1|       1|     Stephen Johnson|    Store Manager|           0|\n",
            "|          2|       1|       Rebecca Myers|Assistant Manager|           0|\n",
            "|          3|       1|  Katherine Buchanan|          Cashier|           0|\n",
            "|          4|       1|       Jessica Hicks|      Stock Clerk|           0|\n",
            "|          5|       1|          Ryan Gross|  Sales Associate|           0|\n",
            "|          6|       1|     Jeffery Carlson|  Sales Associate|           0|\n",
            "|          7|       1|      Melissa Wilson|  Sales Associate|           0|\n",
            "|          8|       1|        Edward Hicks|  Sales Associate|           0|\n",
            "|          9|       1|        Shari Jordan|  Sales Associate|           0|\n",
            "|         10|       1|Mrs. Melissa Cald...|  Sales Associate|           0|\n",
            "|         11|       1|       Regina Nelson|  Sales Associate|           0|\n",
            "|         12|       1|        Kevin Dawson|  Sales Associate|           0|\n",
            "|         13|       1|       Nicole Murphy|  Sales Associate|           0|\n",
            "|         14|       2|         Susan Brown|    Store Manager|           0|\n",
            "|         15|       2|         Sean Miller|Assistant Manager|           0|\n",
            "|         16|       2|Christopher Domin...|          Cashier|           0|\n",
            "|         17|       2|          Lisa Mason|      Stock Clerk|           0|\n",
            "|         18|       2|         David Pitts|  Sales Associate|           0|\n",
            "|         19|       2|       Lance Schultz|  Sales Associate|           0|\n",
            "|         20|       2|       Caroline Hall|  Sales Associate|           0|\n",
            "+-----------+--------+--------------------+-----------------+------------+\n",
            "only showing top 20 rows\n",
            "\n"
          ]
        }
      ]
    },
    {
      "cell_type": "code",
      "source": [],
      "metadata": {
        "id": "9bHQymVp4MiH"
      },
      "execution_count": null,
      "outputs": []
    }
  ]
}