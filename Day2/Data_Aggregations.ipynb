{
  "nbformat": 4,
  "nbformat_minor": 0,
  "metadata": {
    "colab": {
      "provenance": []
    },
    "kernelspec": {
      "name": "python3",
      "display_name": "Python 3"
    },
    "language_info": {
      "name": "python"
    }
  },
  "cells": [
    {
      "cell_type": "markdown",
      "source": [],
      "metadata": {
        "id": "aF7w0D0EvyaC"
      }
    },
    {
      "cell_type": "code",
      "execution_count": 7,
      "metadata": {
        "id": "VgBYBgKqVNzy"
      },
      "outputs": [],
      "source": [
        "from pyspark.sql import SparkSession\n"
      ]
    },
    {
      "cell_type": "code",
      "source": [
        "spark=SparkSession.builder.appName(\"Basic\").getOrCreate()"
      ],
      "metadata": {
        "id": "fO1m3NinxW1x"
      },
      "execution_count": 8,
      "outputs": []
    },
    {
      "cell_type": "markdown",
      "source": [],
      "metadata": {
        "id": "Tz9rg81fzdrz"
      }
    },
    {
      "cell_type": "code",
      "source": [
        "str_df=spark.read.csv(\"/content/stores.csv\",header=True,inferSchema=True)\n"
      ],
      "metadata": {
        "id": "4xpzqiplyL9J"
      },
      "execution_count": 13,
      "outputs": []
    },
    {
      "cell_type": "code",
      "source": [
        "#Display Schema\n",
        "str_df.printSchema()"
      ],
      "metadata": {
        "colab": {
          "base_uri": "https://localhost:8080/"
        },
        "id": "4q3W1hmjzxfK",
        "outputId": "2dc08702-4162-415e-de56-75a6c5856c18"
      },
      "execution_count": 14,
      "outputs": [
        {
          "output_type": "stream",
          "name": "stdout",
          "text": [
            "root\n",
            " |-- Store ID: integer (nullable = true)\n",
            " |-- Country: string (nullable = true)\n",
            " |-- City: string (nullable = true)\n",
            " |-- Store Name: string (nullable = true)\n",
            " |-- Number of Employees: integer (nullable = true)\n",
            " |-- ZIP Code: string (nullable = true)\n",
            " |-- Latitude: double (nullable = true)\n",
            " |-- Longitude: double (nullable = true)\n",
            "\n"
          ]
        }
      ]
    },
    {
      "cell_type": "code",
      "source": [
        "str_df.show()"
      ],
      "metadata": {
        "colab": {
          "base_uri": "https://localhost:8080/"
        },
        "id": "7WLAfqxQ0NN-",
        "outputId": "f39388c1-0bb7-4e9c-b837-e6e9887a0ed3"
      },
      "execution_count": 15,
      "outputs": [
        {
          "output_type": "stream",
          "name": "stdout",
          "text": [
            "+--------+--------------+-----------------+--------------------+-------------------+--------+--------+---------+\n",
            "|Store ID|       Country|             City|          Store Name|Number of Employees|ZIP Code|Latitude|Longitude|\n",
            "+--------+--------------+-----------------+--------------------+-------------------+--------+--------+---------+\n",
            "|       1| United States|         New York|      Store New York|                 10|   10001| 40.7128|  -74.006|\n",
            "|       2| United States|      Los Angeles|   Store Los Angeles|                  8|   90001| 34.0522|-118.2437|\n",
            "|       3| United States|          Chicago|       Store Chicago|                  9|   60601| 41.8781| -87.6298|\n",
            "|       4| United States|          Houston|       Store Houston|                 10|   77001| 29.7604| -95.3698|\n",
            "|       5| United States|          Phoenix|       Store Phoenix|                  9|   85001| 33.4484| -112.074|\n",
            "|       6|          中国|             上海|          Store 上海|                  8|  200000| 31.2304| 121.4737|\n",
            "|       7|          中国|             北京|          Store 北京|                 10|  100000| 39.9042| 116.4074|\n",
            "|       8|          中国|             广州|          Store 广州|                 10|  510000| 23.1291| 113.2644|\n",
            "|       9|          中国|             深圳|          Store 深圳|                  9|  518000| 22.5429| 114.0596|\n",
            "|      10|          中国|             重庆|          Store 重庆|                 10|  400000| 29.5638| 106.5505|\n",
            "|      11|   Deutschland|           Berlin|        Store Berlin|                  9|   10115| 52.5125|  13.3903|\n",
            "|      12|   Deutschland|          Hamburg|       Store Hamburg|                 10|   20095| 53.5503|    9.992|\n",
            "|      13|   Deutschland|          München|       Store München|                  9|   80331| 48.1371|  11.5763|\n",
            "|      14|   Deutschland|             Köln|          Store Köln|                  8|   50667|  50.938|   6.9578|\n",
            "|      15|   Deutschland|Frankfurt am Main|Store Frankfurt a...|                 10|   60311| 50.1145|   8.6785|\n",
            "|      16|United Kingdom|           London|        Store London|                  7| EC2P 2E| 51.5072|  -0.1275|\n",
            "|      17|United Kingdom|       Birmingham|    Store Birmingham|                  9|  B1 1AA| 52.4862|  -1.8904|\n",
            "|      18|United Kingdom|          Glasgow|       Store Glasgow|                  7|  G1 1AA|  55.858|   -4.259|\n",
            "|      19|United Kingdom|        Liverpool|     Store Liverpool|                  9|  L1 1AA| 53.4084|  -2.9916|\n",
            "|      20|United Kingdom|          Bristol|       Store Bristol|                  7| BS1 1AA| 51.4545|  -2.5879|\n",
            "+--------+--------------+-----------------+--------------------+-------------------+--------+--------+---------+\n",
            "only showing top 20 rows\n",
            "\n"
          ]
        }
      ]
    },
    {
      "cell_type": "markdown",
      "source": [
        "DATA AGGREGRATIONS\n",
        "# GROUPBY:Group data based on specific columns **bold text**\n",
        "Aggregations:Perform functions like sum,average ,etc.., on grouped data"
      ],
      "metadata": {
        "id": "psqKkHtbv0C-"
      }
    },
    {
      "cell_type": "code",
      "source": [
        "#GroupBy and Aggregations\n",
        "grouped_data = str_df. groupBy(\"city\").agg({\"Store ID\":\"sum\",\"Country\":\"count\"})\n",
        "print(\"Grouped Data:\")\n",
        "grouped_data.show()"
      ],
      "metadata": {
        "colab": {
          "base_uri": "https://localhost:8080/"
        },
        "id": "HBN7Qc6rYAMN",
        "outputId": "4e652b89-09ab-49e9-ca7f-a018bc8b16b3"
      },
      "execution_count": 18,
      "outputs": [
        {
          "output_type": "stream",
          "name": "stdout",
          "text": [
            "Grouped Data:\n",
            "+-----------+-------------+--------------+\n",
            "|       city|sum(Store ID)|count(Country)|\n",
            "+-----------+-------------+--------------+\n",
            "|    Phoenix|            5|             1|\n",
            "|     Madrid|           26|             1|\n",
            "|       Nice|           25|             1|\n",
            "|      Braga|           33|             1|\n",
            "|Los Angeles|            2|             1|\n",
            "|    Glasgow|           18|             1|\n",
            "|  Marseille|           22|             1|\n",
            "|     Berlin|           11|             1|\n",
            "|     London|           16|             1|\n",
            "| Birmingham|           17|             1|\n",
            "|   Zaragoza|           30|             1|\n",
            "|      Paris|           21|             1|\n",
            "|    Chicago|            3|             1|\n",
            "|    Hamburg|           12|             1|\n",
            "|       Lyon|           23|             1|\n",
            "|      Porto|           32|             1|\n",
            "|  Barcelona|           27|             1|\n",
            "|  Guimarães|           34|             1|\n",
            "|    München|           13|             1|\n",
            "|    Bristol|           20|             1|\n",
            "+-----------+-------------+--------------+\n",
            "only showing top 20 rows\n",
            "\n"
          ]
        }
      ]
    },
    {
      "cell_type": "markdown",
      "source": [
        "# Join:Combine multiple DataFrames based on specified ***columns***"
      ],
      "metadata": {
        "id": "nyv2_VvT561a"
      }
    },
    {
      "cell_type": "code",
      "source": [
        "#join with another DataFrame\n",
        "str_df2 = str_df.select(\"city\",\"Country\",\"Store ID\").limit(10)\n",
        "Joined__df=str_df.join(str_df2,\"city\",\"inner\")\n",
        "print(\"Joined DataFrame:\")\n",
        "Joined__df.show()"
      ],
      "metadata": {
        "colab": {
          "base_uri": "https://localhost:8080/"
        },
        "id": "J9PiM_JD6Twh",
        "outputId": "257146ae-230c-4c64-b212-e7dbfae18ff3"
      },
      "execution_count": 16,
      "outputs": [
        {
          "output_type": "stream",
          "name": "stdout",
          "text": [
            "Joined DataFrame:\n",
            "+-----------+--------+-------------+-----------------+-------------------+--------+--------+---------+-------------+--------+\n",
            "|       City|Store ID|      Country|       Store Name|Number of Employees|ZIP Code|Latitude|Longitude|      Country|Store ID|\n",
            "+-----------+--------+-------------+-----------------+-------------------+--------+--------+---------+-------------+--------+\n",
            "|   New York|       1|United States|   Store New York|                 10|   10001| 40.7128|  -74.006|United States|       1|\n",
            "|Los Angeles|       2|United States|Store Los Angeles|                  8|   90001| 34.0522|-118.2437|United States|       2|\n",
            "|    Chicago|       3|United States|    Store Chicago|                  9|   60601| 41.8781| -87.6298|United States|       3|\n",
            "|    Houston|       4|United States|    Store Houston|                 10|   77001| 29.7604| -95.3698|United States|       4|\n",
            "|    Phoenix|       5|United States|    Store Phoenix|                  9|   85001| 33.4484| -112.074|United States|       5|\n",
            "|       上海|       6|         中国|       Store 上海|                  8|  200000| 31.2304| 121.4737|         中国|       6|\n",
            "|       北京|       7|         中国|       Store 北京|                 10|  100000| 39.9042| 116.4074|         中国|       7|\n",
            "|       广州|       8|         中国|       Store 广州|                 10|  510000| 23.1291| 113.2644|         中国|       8|\n",
            "|       深圳|       9|         中国|       Store 深圳|                  9|  518000| 22.5429| 114.0596|         中国|       9|\n",
            "|       重庆|      10|         中国|       Store 重庆|                 10|  400000| 29.5638| 106.5505|         中国|      10|\n",
            "+-----------+--------+-------------+-----------------+-------------------+--------+--------+---------+-------------+--------+\n",
            "\n"
          ]
        }
      ]
    },
    {
      "cell_type": "markdown",
      "source": [
        "# Sort:Arrange Rows Based ON one or More Columns"
      ],
      "metadata": {
        "id": "tovbc1VM_gUU"
      }
    },
    {
      "cell_type": "code",
      "source": [
        "#sort by A column\n",
        "sorted_data=str_df.orderBy(\"Zip Code\")\n",
        "print(\"stored Data:\")\n",
        "sorted_data.show(15)"
      ],
      "metadata": {
        "colab": {
          "base_uri": "https://localhost:8080/"
        },
        "id": "wdhGQiH_1p78",
        "outputId": "4c720401-2796-4d3e-afc9-6db1b7e0a7cd"
      },
      "execution_count": 17,
      "outputs": [
        {
          "output_type": "stream",
          "name": "stdout",
          "text": [
            "stored Data:\n",
            "+--------+-------------+---------+---------------+-------------------+--------+--------+---------+\n",
            "|Store ID|      Country|     City|     Store Name|Number of Employees|ZIP Code|Latitude|Longitude|\n",
            "+--------+-------------+---------+---------------+-------------------+--------+--------+---------+\n",
            "|      25|       France|     Nice|     Store Nice|                  9|   06000|    43.7|   7.2684|\n",
            "|      27|       España|Barcelona|Store Barcelona|                  9|   08001|  41.387|   2.1682|\n",
            "|      31|     Portugal|   Lisboa|   Store Lisboa|                 10|1000-001| 38.7167|  -9.1333|\n",
            "|       7|         中国|     北京|     Store 北京|                 10|  100000| 39.9042| 116.4074|\n",
            "|       1|United States| New York| Store New York|                 10|   10001| 40.7128|  -74.006|\n",
            "|      11|  Deutschland|   Berlin|   Store Berlin|                  9|   10115| 52.5125|  13.3903|\n",
            "|      22|       France|Marseille|Store Marseille|                  7|   13000| 43.2965|   5.3698|\n",
            "|       6|         中国|     上海|     Store 上海|                  8|  200000| 31.2304| 121.4737|\n",
            "|      12|  Deutschland|  Hamburg|  Store Hamburg|                 10|   20095| 53.5503|    9.992|\n",
            "|      26|       España|   Madrid|   Store Madrid|                  7|   28001|  40.438|  -3.6905|\n",
            "|      35|     Portugal|  Coimbra|  Store Coimbra|                  7|3000-001| 40.2056|  -8.4196|\n",
            "|      24|       France| Toulouse| Store Toulouse|                  8|   31000| 43.6047|   1.4442|\n",
            "|      32|     Portugal|    Porto|    Store Porto|                  7|4000-001| 41.1496|   -8.611|\n",
            "|      10|         中国|     重庆|     Store 重庆|                 10|  400000| 29.5638| 106.5505|\n",
            "|      29|       España|  Sevilla|  Store Sevilla|                  8|   41001| 37.3906|  -5.9879|\n",
            "+--------+-------------+---------+---------------+-------------------+--------+--------+---------+\n",
            "only showing top 15 rows\n",
            "\n"
          ]
        }
      ]
    },
    {
      "cell_type": "code",
      "source": [
        "#sort by a column desc\n",
        "from pyspark.sql.functions import  col\n",
        "sorted_data=str_df.orderBy(col(\"Zip Code\").desc(),col(\"Store ID\").desc())\n",
        "print(\"Stored Data Descending:\")\n",
        "sorted_data.show(15)"
      ],
      "metadata": {
        "colab": {
          "base_uri": "https://localhost:8080/"
        },
        "id": "HTX57fodfe3D",
        "outputId": "c8f4f0b6-2ac2-4aad-9a40-8892b3851f5e"
      },
      "execution_count": 18,
      "outputs": [
        {
          "output_type": "stream",
          "name": "stdout",
          "text": [
            "Stored Data Descending:\n",
            "+--------+--------------+-----------------+--------------------+-------------------+--------+--------+---------+\n",
            "|Store ID|       Country|             City|          Store Name|Number of Employees|ZIP Code|Latitude|Longitude|\n",
            "+--------+--------------+-----------------+--------------------+-------------------+--------+--------+---------+\n",
            "|      19|United Kingdom|        Liverpool|     Store Liverpool|                  9|  L1 1AA| 53.4084|  -2.9916|\n",
            "|      18|United Kingdom|          Glasgow|       Store Glasgow|                  7|  G1 1AA|  55.858|   -4.259|\n",
            "|      16|United Kingdom|           London|        Store London|                  7| EC2P 2E| 51.5072|  -0.1275|\n",
            "|      20|United Kingdom|          Bristol|       Store Bristol|                  7| BS1 1AA| 51.4545|  -2.5879|\n",
            "|      17|United Kingdom|       Birmingham|    Store Birmingham|                  9|  B1 1AA| 52.4862|  -1.8904|\n",
            "|       2| United States|      Los Angeles|   Store Los Angeles|                  8|   90001| 34.0522|-118.2437|\n",
            "|       5| United States|          Phoenix|       Store Phoenix|                  9|   85001| 33.4484| -112.074|\n",
            "|      13|   Deutschland|          München|       Store München|                  9|   80331| 48.1371|  11.5763|\n",
            "|       4| United States|          Houston|       Store Houston|                 10|   77001| 29.7604| -95.3698|\n",
            "|      21|        France|            Paris|         Store Paris|                  7|   75000| 48.8656|    2.343|\n",
            "|      23|        France|             Lyon|          Store Lyon|                  8|   69000|  45.764|   4.8357|\n",
            "|       3| United States|          Chicago|       Store Chicago|                  9|   60601| 41.8781| -87.6298|\n",
            "|      15|   Deutschland|Frankfurt am Main|Store Frankfurt a...|                 10|   60311| 50.1145|   8.6785|\n",
            "|       9|          中国|             深圳|          Store 深圳|                  9|  518000| 22.5429| 114.0596|\n",
            "|       8|          中国|             广州|          Store 广州|                 10|  510000| 23.1291| 113.2644|\n",
            "+--------+--------------+-----------------+--------------------+-------------------+--------+--------+---------+\n",
            "only showing top 15 rows\n",
            "\n"
          ]
        }
      ]
    },
    {
      "cell_type": "markdown",
      "source": [
        "# DISTINCT:GET UNIQUE ROWS"
      ],
      "metadata": {
        "id": "mziea1nUjHS-"
      }
    },
    {
      "cell_type": "code",
      "source": [
        "#get distinct product city\n",
        "distinct_city=str_df.select(\"city\").distinct()\n",
        "print(\"Distinct City:\")\n",
        "distinct_city.show()"
      ],
      "metadata": {
        "colab": {
          "base_uri": "https://localhost:8080/"
        },
        "id": "UuyUwJ2JjU2q",
        "outputId": "97eb6fa9-0f45-4c28-ede6-0e74d9fbbe5b"
      },
      "execution_count": 19,
      "outputs": [
        {
          "output_type": "stream",
          "name": "stdout",
          "text": [
            "Distinct City:\n",
            "+-----------+\n",
            "|       city|\n",
            "+-----------+\n",
            "|    Phoenix|\n",
            "|     Madrid|\n",
            "|       Nice|\n",
            "|      Braga|\n",
            "|Los Angeles|\n",
            "|    Glasgow|\n",
            "|  Marseille|\n",
            "|     Berlin|\n",
            "|     London|\n",
            "| Birmingham|\n",
            "|   Zaragoza|\n",
            "|      Paris|\n",
            "|    Chicago|\n",
            "|    Hamburg|\n",
            "|       Lyon|\n",
            "|      Porto|\n",
            "|  Barcelona|\n",
            "|  Guimarães|\n",
            "|    München|\n",
            "|    Bristol|\n",
            "+-----------+\n",
            "only showing top 20 rows\n",
            "\n"
          ]
        }
      ]
    },
    {
      "cell_type": "markdown",
      "source": [
        "# DROP:Remove specified columns,\n"
      ],
      "metadata": {
        "id": "KhWL2_Okke-2"
      }
    },
    {
      "cell_type": "code",
      "source": [
        "#Drop columns\n",
        "dropped_df=str_df.drop(\"Store ID\",\"Zip Code\")\n",
        "print(\"Dropped DataFrame:\")\n",
        "dropped_df.show()"
      ],
      "metadata": {
        "colab": {
          "base_uri": "https://localhost:8080/"
        },
        "id": "CIWh_UaWjEsj",
        "outputId": "67aa0b96-ccbb-4c3e-dbb9-e1382be9d0d4"
      },
      "execution_count": 21,
      "outputs": [
        {
          "output_type": "stream",
          "name": "stdout",
          "text": [
            "Dropped DataFrame:\n",
            "+--------------+-----------------+--------------------+-------------------+--------+---------+\n",
            "|       Country|             City|          Store Name|Number of Employees|Latitude|Longitude|\n",
            "+--------------+-----------------+--------------------+-------------------+--------+---------+\n",
            "| United States|         New York|      Store New York|                 10| 40.7128|  -74.006|\n",
            "| United States|      Los Angeles|   Store Los Angeles|                  8| 34.0522|-118.2437|\n",
            "| United States|          Chicago|       Store Chicago|                  9| 41.8781| -87.6298|\n",
            "| United States|          Houston|       Store Houston|                 10| 29.7604| -95.3698|\n",
            "| United States|          Phoenix|       Store Phoenix|                  9| 33.4484| -112.074|\n",
            "|          中国|             上海|          Store 上海|                  8| 31.2304| 121.4737|\n",
            "|          中国|             北京|          Store 北京|                 10| 39.9042| 116.4074|\n",
            "|          中国|             广州|          Store 广州|                 10| 23.1291| 113.2644|\n",
            "|          中国|             深圳|          Store 深圳|                  9| 22.5429| 114.0596|\n",
            "|          中国|             重庆|          Store 重庆|                 10| 29.5638| 106.5505|\n",
            "|   Deutschland|           Berlin|        Store Berlin|                  9| 52.5125|  13.3903|\n",
            "|   Deutschland|          Hamburg|       Store Hamburg|                 10| 53.5503|    9.992|\n",
            "|   Deutschland|          München|       Store München|                  9| 48.1371|  11.5763|\n",
            "|   Deutschland|             Köln|          Store Köln|                  8|  50.938|   6.9578|\n",
            "|   Deutschland|Frankfurt am Main|Store Frankfurt a...|                 10| 50.1145|   8.6785|\n",
            "|United Kingdom|           London|        Store London|                  7| 51.5072|  -0.1275|\n",
            "|United Kingdom|       Birmingham|    Store Birmingham|                  9| 52.4862|  -1.8904|\n",
            "|United Kingdom|          Glasgow|       Store Glasgow|                  7|  55.858|   -4.259|\n",
            "|United Kingdom|        Liverpool|     Store Liverpool|                  9| 53.4084|  -2.9916|\n",
            "|United Kingdom|          Bristol|       Store Bristol|                  7| 51.4545|  -2.5879|\n",
            "+--------------+-----------------+--------------------+-------------------+--------+---------+\n",
            "only showing top 20 rows\n",
            "\n"
          ]
        }
      ]
    },
    {
      "cell_type": "markdown",
      "source": [
        "**WithColumn:add new calculated** **columns**"
      ],
      "metadata": {
        "id": "7T3CT4NSldgp"
      }
    },
    {
      "cell_type": "code",
      "source": [
        "#Add a new calculated column\n",
        "df_with_newcolumn=str_df.withColumn(\"Employees\",str_df.City==str_df.Country)\n",
        "print(\"Dataframe with new column:\")\n",
        "df_with_newcolumn.show()\n"
      ],
      "metadata": {
        "colab": {
          "base_uri": "https://localhost:8080/"
        },
        "id": "T78kpcXulxB2",
        "outputId": "67b559c7-cb80-4e07-fc19-16735d0862fe"
      },
      "execution_count": 23,
      "outputs": [
        {
          "output_type": "stream",
          "name": "stdout",
          "text": [
            "Dataframe with new column:\n",
            "+--------+--------------+-----------------+--------------------+-------------------+--------+--------+---------+---------+\n",
            "|Store ID|       Country|             City|          Store Name|Number of Employees|ZIP Code|Latitude|Longitude|Employees|\n",
            "+--------+--------------+-----------------+--------------------+-------------------+--------+--------+---------+---------+\n",
            "|       1| United States|         New York|      Store New York|                 10|   10001| 40.7128|  -74.006|    false|\n",
            "|       2| United States|      Los Angeles|   Store Los Angeles|                  8|   90001| 34.0522|-118.2437|    false|\n",
            "|       3| United States|          Chicago|       Store Chicago|                  9|   60601| 41.8781| -87.6298|    false|\n",
            "|       4| United States|          Houston|       Store Houston|                 10|   77001| 29.7604| -95.3698|    false|\n",
            "|       5| United States|          Phoenix|       Store Phoenix|                  9|   85001| 33.4484| -112.074|    false|\n",
            "|       6|          中国|             上海|          Store 上海|                  8|  200000| 31.2304| 121.4737|    false|\n",
            "|       7|          中国|             北京|          Store 北京|                 10|  100000| 39.9042| 116.4074|    false|\n",
            "|       8|          中国|             广州|          Store 广州|                 10|  510000| 23.1291| 113.2644|    false|\n",
            "|       9|          中国|             深圳|          Store 深圳|                  9|  518000| 22.5429| 114.0596|    false|\n",
            "|      10|          中国|             重庆|          Store 重庆|                 10|  400000| 29.5638| 106.5505|    false|\n",
            "|      11|   Deutschland|           Berlin|        Store Berlin|                  9|   10115| 52.5125|  13.3903|    false|\n",
            "|      12|   Deutschland|          Hamburg|       Store Hamburg|                 10|   20095| 53.5503|    9.992|    false|\n",
            "|      13|   Deutschland|          München|       Store München|                  9|   80331| 48.1371|  11.5763|    false|\n",
            "|      14|   Deutschland|             Köln|          Store Köln|                  8|   50667|  50.938|   6.9578|    false|\n",
            "|      15|   Deutschland|Frankfurt am Main|Store Frankfurt a...|                 10|   60311| 50.1145|   8.6785|    false|\n",
            "|      16|United Kingdom|           London|        Store London|                  7| EC2P 2E| 51.5072|  -0.1275|    false|\n",
            "|      17|United Kingdom|       Birmingham|    Store Birmingham|                  9|  B1 1AA| 52.4862|  -1.8904|    false|\n",
            "|      18|United Kingdom|          Glasgow|       Store Glasgow|                  7|  G1 1AA|  55.858|   -4.259|    false|\n",
            "|      19|United Kingdom|        Liverpool|     Store Liverpool|                  9|  L1 1AA| 53.4084|  -2.9916|    false|\n",
            "|      20|United Kingdom|          Bristol|       Store Bristol|                  7| BS1 1AA| 51.4545|  -2.5879|    false|\n",
            "+--------+--------------+-----------------+--------------------+-------------------+--------+--------+---------+---------+\n",
            "only showing top 20 rows\n",
            "\n"
          ]
        }
      ]
    },
    {
      "cell_type": "markdown",
      "source": [
        "**ALIAS:Rename columns for better readablity**"
      ],
      "metadata": {
        "id": "h9GIW8VroYsD"
      }
    },
    {
      "cell_type": "code",
      "source": [
        "#Rename colunms using alias\n",
        "df_with_alias=str_df.withColumnRenamed(\"Store ID\",\"shopname\")\n",
        "print(\"Dataframe with Aliased column:\")\n",
        "df_with_alias.show()"
      ],
      "metadata": {
        "colab": {
          "base_uri": "https://localhost:8080/"
        },
        "id": "qlHqYMxhoPHb",
        "outputId": "d0deee91-6437-49d6-8805-81f985efd72d"
      },
      "execution_count": 24,
      "outputs": [
        {
          "output_type": "stream",
          "name": "stdout",
          "text": [
            "Dataframe with Aliased column:\n",
            "+--------+--------------+-----------------+--------------------+-------------------+--------+--------+---------+\n",
            "|shopname|       Country|             City|          Store Name|Number of Employees|ZIP Code|Latitude|Longitude|\n",
            "+--------+--------------+-----------------+--------------------+-------------------+--------+--------+---------+\n",
            "|       1| United States|         New York|      Store New York|                 10|   10001| 40.7128|  -74.006|\n",
            "|       2| United States|      Los Angeles|   Store Los Angeles|                  8|   90001| 34.0522|-118.2437|\n",
            "|       3| United States|          Chicago|       Store Chicago|                  9|   60601| 41.8781| -87.6298|\n",
            "|       4| United States|          Houston|       Store Houston|                 10|   77001| 29.7604| -95.3698|\n",
            "|       5| United States|          Phoenix|       Store Phoenix|                  9|   85001| 33.4484| -112.074|\n",
            "|       6|          中国|             上海|          Store 上海|                  8|  200000| 31.2304| 121.4737|\n",
            "|       7|          中国|             北京|          Store 北京|                 10|  100000| 39.9042| 116.4074|\n",
            "|       8|          中国|             广州|          Store 广州|                 10|  510000| 23.1291| 113.2644|\n",
            "|       9|          中国|             深圳|          Store 深圳|                  9|  518000| 22.5429| 114.0596|\n",
            "|      10|          中国|             重庆|          Store 重庆|                 10|  400000| 29.5638| 106.5505|\n",
            "|      11|   Deutschland|           Berlin|        Store Berlin|                  9|   10115| 52.5125|  13.3903|\n",
            "|      12|   Deutschland|          Hamburg|       Store Hamburg|                 10|   20095| 53.5503|    9.992|\n",
            "|      13|   Deutschland|          München|       Store München|                  9|   80331| 48.1371|  11.5763|\n",
            "|      14|   Deutschland|             Köln|          Store Köln|                  8|   50667|  50.938|   6.9578|\n",
            "|      15|   Deutschland|Frankfurt am Main|Store Frankfurt a...|                 10|   60311| 50.1145|   8.6785|\n",
            "|      16|United Kingdom|           London|        Store London|                  7| EC2P 2E| 51.5072|  -0.1275|\n",
            "|      17|United Kingdom|       Birmingham|    Store Birmingham|                  9|  B1 1AA| 52.4862|  -1.8904|\n",
            "|      18|United Kingdom|          Glasgow|       Store Glasgow|                  7|  G1 1AA|  55.858|   -4.259|\n",
            "|      19|United Kingdom|        Liverpool|     Store Liverpool|                  9|  L1 1AA| 53.4084|  -2.9916|\n",
            "|      20|United Kingdom|          Bristol|       Store Bristol|                  7| BS1 1AA| 51.4545|  -2.5879|\n",
            "+--------+--------------+-----------------+--------------------+-------------------+--------+--------+---------+\n",
            "only showing top 20 rows\n",
            "\n"
          ]
        }
      ]
    },
    {
      "cell_type": "code",
      "source": [
        "#stop the sparkSession\n",
        "spark.stop()"
      ],
      "metadata": {
        "id": "BK5sZy0cpk2w"
      },
      "execution_count": 25,
      "outputs": []
    },
    {
      "cell_type": "markdown",
      "source": [],
      "metadata": {
        "id": "nvCx43Ovw-Jn"
      }
    }
  ]
}