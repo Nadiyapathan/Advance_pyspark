{
  "cells": [
    {
      "cell_type": "code",
      "execution_count": null,
      "metadata": {
        "id": "Zthm-iqE85S6"
      },
      "outputs": [],
      "source": [
        "from pyspark.sql import SparkSession\n",
        "\n",
        "\n",
        "#creating a sparkSession\n",
        "spark=SparkSession.builder.appName(\"DataFrame Sql\").getOrCreate()"
      ]
    },
    {
      "cell_type": "code",
      "execution_count": null,
      "metadata": {
        "id": "4lo-8W6n8v5L"
      },
      "outputs": [],
      "source": [
        "#load the data into Dataframe\n",
        "df=spark.read.csv(\"/content/customers.csv\",header=True,inferSchema=True)"
      ]
    },
    {
      "cell_type": "code",
      "execution_count": null,
      "metadata": {
        "colab": {
          "base_uri": "https://localhost:8080/"
        },
        "id": "5yAcLMzA6ubz",
        "outputId": "f26eefb2-ba35-4e4e-fe76-242ab4dcb0fb"
      },
      "outputs": [
        {
          "name": "stdout",
          "output_type": "stream",
          "text": [
            "root\n",
            " |-- Customer ID: integer (nullable = true)\n",
            " |-- Name: string (nullable = true)\n",
            " |-- Email: string (nullable = true)\n",
            " |-- Telephone: string (nullable = true)\n",
            " |-- City: string (nullable = true)\n",
            " |-- Country: string (nullable = true)\n",
            " |-- Gender: string (nullable = true)\n",
            " |-- Date Of Birth: date (nullable = true)\n",
            " |-- Job Title: string (nullable = true)\n",
            "\n"
          ]
        }
      ],
      "source": [
        "#display Schema or Dataframee\n",
        "df.printSchema()"
      ]
    },
    {
      "cell_type": "code",
      "execution_count": null,
      "metadata": {
        "colab": {
          "base_uri": "https://localhost:8080/"
        },
        "id": "2X6q4s-t-8O7",
        "outputId": "0b6d6146-1895-4bea-8bda-8e99b694831d"
      },
      "outputs": [
        {
          "name": "stdout",
          "output_type": "stream",
          "text": [
            "initialDataframe:\n",
            "+-----------+--------------------+--------------------+--------------------+--------+-------------+------+-------------+--------------------+\n",
            "|Customer ID|                Name|               Email|           Telephone|    City|      Country|Gender|Date Of Birth|           Job Title|\n",
            "+-----------+--------------------+--------------------+--------------------+--------+-------------+------+-------------+--------------------+\n",
            "|          1|        Tyler Garcia|tyler.garcia@fake...|  922.970.2265x47563|New York|United States|     M|   2003-07-15|                NULL|\n",
            "|          2|       Joshua Miller|joshua.miller@fak...|     +1-958-729-6169|New York|United States|     M|   2000-06-16|     Records manager|\n",
            "|          3| Alison Marshall DDS|alison.marshall.d...|+1-645-567-0876x5409|New York|United States|     F|   2003-07-22|                NULL|\n",
            "|          4|      Jeffery Acosta|jeffery.acosta@fa...|  212.336.0912x84994|New York|United States|     M|   1996-11-12|         Proofreader|\n",
            "|          5|      Ashley Sanders|ashley.sanders@fa...|          7814535781|New York|United States|     F|   1998-02-10|Exercise physiolo...|\n",
            "|          6|       Steven Chavez|steven.chavez@fak...|        469.238.0828|New York|United States|     M|   1988-01-06|    Technical brewer|\n",
            "|          7|       Steven Snyder|steven.snyder@fak...|     +1-294-543-6438|New York|United States|     M|   2000-10-27|Agricultural engi...|\n",
            "|          8|         Paul Walker|paul.walker@fake_...|   205.335.5074x1759|New York|United States|     M|   2007-03-03|                NULL|\n",
            "|          9|        Edwin Bryant|edwin.bryant@fake...|+1-436-359-4105x4...|New York|United States|     M|   1999-07-19|Biochemist, clinical|\n",
            "|         10|       Michelle Bird|michelle.bird@fak...|+1-325-528-1530x0...|New York|United States|     F|   2003-03-03|                NULL|\n",
            "|         11|Natalie Espinoza DDS|natalie.espinoza....|    325-379-6960x933|New York|United States|     F|   1970-09-08|Public relations ...|\n",
            "|         12|        Autumn Green|autumn.green@fake...|  (841)850-4720x0041|New York|United States|     F|   2001-06-24|                NULL|\n",
            "|         13|  Jennifer Henderson|jennifer.henderso...|   (859)776-6705x615|New York|United States|     F|   1999-06-03|Engineer, control...|\n",
            "|         14|    Jennifer Pearson|jennifer.pearson@...|        354.559.8541|New York|United States|     F|   2006-06-23|                NULL|\n",
            "|         15|         Corey Lopez|corey.lopez@fake_...|          7359516571|New York|United States|     M|   2000-06-27|     Records manager|\n",
            "|         16|      Patrick Parker|patrick.parker@fa...|    420.510.1425x994|New York|United States|     M|   1999-12-10|        Psychiatrist|\n",
            "|         17|          Jason Wong|jason.wong@fake_y...|    925.672.7219x347|New York|United States|     M|   1977-09-17|     Legal secretary|\n",
            "|         18|      Jasmine Miller|jasmine.miller@fa...|          9492316332|New York|United States|     F|   2005-06-05|                NULL|\n",
            "|         19|      Regina Edwards|regina.edwards@fa...|   927-209-4313x3292|New York|United States|     F|   1995-01-23|      Pilot, airline|\n",
            "|         20|            Ann Hall|ann.hall@fake_hot...|        375.997.2367|New York|United States|     F|   2005-07-08|                NULL|\n",
            "+-----------+--------------------+--------------------+--------------------+--------+-------------+------+-------------+--------------------+\n",
            "only showing top 20 rows\n",
            "\n"
          ]
        }
      ],
      "source": [
        "#show the initial  dataframe\n",
        "print(\"initialDataframe:\")\n",
        "df.show()"
      ]
    },
    {
      "cell_type": "markdown",
      "metadata": {
        "id": "oSbr4zv5_fCf"
      },
      "source": [
        "# Register the DataFrame as a Temporary **Table**"
      ]
    },
    {
      "cell_type": "code",
      "execution_count": null,
      "metadata": {
        "id": "6GtgeLAV_rjQ"
      },
      "outputs": [],
      "source": [
        "#register the DataFrame As a TEmporary Table\n",
        "df.createOrReplaceTempView(\"my_table\")"
      ]
    },
    {
      "cell_type": "markdown",
      "metadata": {
        "id": "9Sd0y2tqAVMM"
      },
      "source": [
        "# Perfrom sql-like Queries"
      ]
    },
    {
      "cell_type": "code",
      "execution_count": null,
      "metadata": {
        "colab": {
          "base_uri": "https://localhost:8080/"
        },
        "id": "BoLNFMtUAfI2",
        "outputId": "71111d58-f239-4a3f-8daf-39cb1fcbbff3"
      },
      "outputs": [
        {
          "name": "stdout",
          "output_type": "stream",
          "text": [
            "+-----------+--------------------+--------------------+--------------------+--------+-------------+------+-------------+--------------------+\n",
            "|Customer ID|                Name|               Email|           Telephone|    City|      Country|Gender|Date Of Birth|           Job Title|\n",
            "+-----------+--------------------+--------------------+--------------------+--------+-------------+------+-------------+--------------------+\n",
            "|          1|        Tyler Garcia|tyler.garcia@fake...|  922.970.2265x47563|New York|United States|     M|   2003-07-15|                NULL|\n",
            "|          2|       Joshua Miller|joshua.miller@fak...|     +1-958-729-6169|New York|United States|     M|   2000-06-16|     Records manager|\n",
            "|          3| Alison Marshall DDS|alison.marshall.d...|+1-645-567-0876x5409|New York|United States|     F|   2003-07-22|                NULL|\n",
            "|          4|      Jeffery Acosta|jeffery.acosta@fa...|  212.336.0912x84994|New York|United States|     M|   1996-11-12|         Proofreader|\n",
            "|          5|      Ashley Sanders|ashley.sanders@fa...|          7814535781|New York|United States|     F|   1998-02-10|Exercise physiolo...|\n",
            "|          6|       Steven Chavez|steven.chavez@fak...|        469.238.0828|New York|United States|     M|   1988-01-06|    Technical brewer|\n",
            "|          7|       Steven Snyder|steven.snyder@fak...|     +1-294-543-6438|New York|United States|     M|   2000-10-27|Agricultural engi...|\n",
            "|          8|         Paul Walker|paul.walker@fake_...|   205.335.5074x1759|New York|United States|     M|   2007-03-03|                NULL|\n",
            "|          9|        Edwin Bryant|edwin.bryant@fake...|+1-436-359-4105x4...|New York|United States|     M|   1999-07-19|Biochemist, clinical|\n",
            "|         10|       Michelle Bird|michelle.bird@fak...|+1-325-528-1530x0...|New York|United States|     F|   2003-03-03|                NULL|\n",
            "|         11|Natalie Espinoza DDS|natalie.espinoza....|    325-379-6960x933|New York|United States|     F|   1970-09-08|Public relations ...|\n",
            "|         12|        Autumn Green|autumn.green@fake...|  (841)850-4720x0041|New York|United States|     F|   2001-06-24|                NULL|\n",
            "|         13|  Jennifer Henderson|jennifer.henderso...|   (859)776-6705x615|New York|United States|     F|   1999-06-03|Engineer, control...|\n",
            "|         14|    Jennifer Pearson|jennifer.pearson@...|        354.559.8541|New York|United States|     F|   2006-06-23|                NULL|\n",
            "|         15|         Corey Lopez|corey.lopez@fake_...|          7359516571|New York|United States|     M|   2000-06-27|     Records manager|\n",
            "|         16|      Patrick Parker|patrick.parker@fa...|    420.510.1425x994|New York|United States|     M|   1999-12-10|        Psychiatrist|\n",
            "|         17|          Jason Wong|jason.wong@fake_y...|    925.672.7219x347|New York|United States|     M|   1977-09-17|     Legal secretary|\n",
            "|         18|      Jasmine Miller|jasmine.miller@fa...|          9492316332|New York|United States|     F|   2005-06-05|                NULL|\n",
            "|         19|      Regina Edwards|regina.edwards@fa...|   927-209-4313x3292|New York|United States|     F|   1995-01-23|      Pilot, airline|\n",
            "|         20|            Ann Hall|ann.hall@fake_hot...|        375.997.2367|New York|United States|     F|   2005-07-08|                NULL|\n",
            "+-----------+--------------------+--------------------+--------------------+--------+-------------+------+-------------+--------------------+\n",
            "only showing top 20 rows\n",
            "\n"
          ]
        }
      ],
      "source": [
        "#select all rows where Date of Birth is equal to 2006\n",
        "result=spark.sql(\"Select*from my_table where YEAR(' 1970-09-08')=1970\")\n",
        "result.show()"
      ]
    },
    {
      "cell_type": "code",
      "execution_count": null,
      "metadata": {
        "colab": {
          "base_uri": "https://localhost:8080/"
        },
        "id": "PMlRVl9FFLux",
        "outputId": "54edc008-f1fc-4c95-b465-7caba1ffaee0"
      },
      "outputs": [
        {
          "name": "stdout",
          "output_type": "stream",
          "text": [
            "+------+----------+\n",
            "|gender|avg_Gender|\n",
            "+------+----------+\n",
            "|     F|      NULL|\n",
            "|     M|      NULL|\n",
            "|     D|      NULL|\n",
            "+------+----------+\n",
            "\n"
          ]
        }
      ],
      "source": [
        "avg_by_gender = spark.sql(\"SELECT gender, AVG(gender) as avg_Gender FROM my_table GROUP BY gender\")\n",
        "avg_by_gender.show()"
      ]
    },
    {
      "cell_type": "markdown",
      "metadata": {
        "id": "zuK3ZuNDF6Hn"
      },
      "source": [
        "# CREATING AND MANAGING TEMPORARY VIEWS"
      ]
    },
    {
      "cell_type": "code",
      "execution_count": null,
      "metadata": {
        "id": "pCDkrRw_F1ar"
      },
      "outputs": [],
      "source": [
        "#creating a temporary view\n",
        "df.createOrReplaceTempView(\"people\")"
      ]
    },
    {
      "cell_type": "code",
      "execution_count": null,
      "metadata": {
        "colab": {
          "background_save": true,
          "base_uri": "https://localhost:8080/",
          "height": 425
        },
        "id": "riCOdLYMG6ik",
        "outputId": "d6e13659-cb89-41a4-dbfc-7a1f9252603a"
      },
      "outputs": [
        {
          "name": "stdout",
          "output_type": "stream",
          "text": [
            "+-----------+--------------------+--------------------+--------------------+--------+-------------+------+-------------+--------------------+\n",
            "|Customer ID|                Name|               Email|           Telephone|    City|      Country|Gender|Date Of Birth|           Job Title|\n",
            "+-----------+--------------------+--------------------+--------------------+--------+-------------+------+-------------+--------------------+\n",
            "|          3| Alison Marshall DDS|alison.marshall.d...|+1-645-567-0876x5409|New York|United States|     F|   2003-07-22|                NULL|\n",
            "|          5|      Ashley Sanders|ashley.sanders@fa...|          7814535781|New York|United States|     F|   1998-02-10|Exercise physiolo...|\n",
            "|         10|       Michelle Bird|michelle.bird@fak...|+1-325-528-1530x0...|New York|United States|     F|   2003-03-03|                NULL|\n",
            "|         11|Natalie Espinoza DDS|natalie.espinoza....|    325-379-6960x933|New York|United States|     F|   1970-09-08|Public relations ...|\n",
            "|         12|        Autumn Green|autumn.green@fake...|  (841)850-4720x0041|New York|United States|     F|   2001-06-24|                NULL|\n",
            "|         13|  Jennifer Henderson|jennifer.henderso...|   (859)776-6705x615|New York|United States|     F|   1999-06-03|Engineer, control...|\n",
            "|         14|    Jennifer Pearson|jennifer.pearson@...|        354.559.8541|New York|United States|     F|   2006-06-23|                NULL|\n",
            "|         18|      Jasmine Miller|jasmine.miller@fa...|          9492316332|New York|United States|     F|   2005-06-05|                NULL|\n",
            "|         19|      Regina Edwards|regina.edwards@fa...|   927-209-4313x3292|New York|United States|     F|   1995-01-23|      Pilot, airline|\n",
            "|         20|            Ann Hall|ann.hall@fake_hot...|        375.997.2367|New York|United States|     F|   2005-07-08|                NULL|\n",
            "|         23|        Stacey Cohen|stacey.cohen@fake...|  775-224-3651x07873|New York|United States|     F|   1989-12-09|Database administ...|\n",
            "|         24|        Sara Bennett|sara.bennett@fake...| (815)795-1809x90572|New York|United States|     F|   1999-04-08|Surveyor, rural p...|\n",
            "|         27|  Margaret Alexander|margaret.alexande...|        606-285-3439|New York|United States|     F|   2003-06-14|                NULL|\n",
            "|         28|      Jasmine Ramsey|jasmine.ramsey@fa...|+1-260-221-9212x0...|New York|United States|     F|   2002-09-25|                NULL|\n",
            "|         37|       Sarah Spencer|sarah.spencer@fak...|        475-308-2802|New York|United States|     F|   2004-03-28|                NULL|\n",
            "|         38|       Marisa Waller|marisa.waller@fak...|    443-643-3843x197|New York|United States|     F|   2003-03-27|                NULL|\n",
            "|         41|  Katherine Robinson|katherine.robinso...|    761.570.0555x542|New York|United States|     F|   1994-09-24| Marketing executive|\n",
            "|         42|       Leslie Martin|leslie.martin@fak...|   825.826.5671x7104|New York|United States|     F|   2004-10-21|                NULL|\n",
            "|         43|     April Alexander|april.alexander@f...|          9793160805|New York|United States|     F|   1961-09-18|Multimedia progra...|\n",
            "|         50|        Megan Campos|megan.campos@fake...|        630-353-8552|New York|United States|     F|   2000-09-22|  Investment analyst|\n",
            "+-----------+--------------------+--------------------+--------------------+--------+-------------+------+-------------+--------------------+\n",
            "only showing top 20 rows\n",
            "\n"
          ]
        }
      ],
      "source": [
        "#query the temporary view\n",
        "result=spark.sql(\"SELECT *FROM People WHERE Gender='F'\")\n",
        "result.show()"
      ]
    }
  ],
  "metadata": {
    "colab": {
      "provenance": []
    },
    "kernelspec": {
      "display_name": "Python 3",
      "name": "python3"
    },
    "language_info": {
      "name": "python"
    }
  },
  "nbformat": 4,
  "nbformat_minor": 0
}